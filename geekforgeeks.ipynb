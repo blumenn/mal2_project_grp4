{
 "cells": [
  {
   "cell_type": "code",
   "execution_count": 5,
   "metadata": {
    "ExecuteTime": {
     "start_time": "2024-11-28T11:46:45.239588Z"
    },
    "jupyter": {
     "is_executing": true
    }
   },
   "outputs": [
    {
     "name": "stdout",
     "output_type": "stream",
     "text": [
      "Processed and saved: data/CCPD2020/processed_images\\00875-90_263-221&525_395&571-395&571_226&570_221&525_394&526-0_0_3_24_32_32_25_29-191-64.jpg\n",
      "Processed and saved: data/CCPD2020/processed_images\\01-90_265-231&522_405&574-405&571_235&574_231&523_403&522-0_0_3_1_28_29_30_30-134-56.jpg\n",
      "Processed and saved: data/CCPD2020/processed_images\\01375-90_254-291&542_489&606-489&601_307&606_291&542_481&543-0_0_5_24_24_31_29_26-224-21.jpg\n",
      "Processed and saved: data/CCPD2020/processed_images\\02625-80_257-201&438_417&561-413&511_201&561_204&480_417&438-1_0_3_24_31_26_26_29-89-82.jpg\n",
      "Processed and saved: data/CCPD2020/processed_images\\02625-94_253-242&460_494&565-494&565_256&530_242&460_485&480-0_0_3_24_24_29_25_32-76-47.jpg\n",
      "Processed and saved: data/CCPD2020/processed_images\\03-103_253-267&425_483&565-483&565_271&497_267&425_480&483-0_0_3_25_25_33_25_25-110-47.jpg\n",
      "Processed and saved: data/CCPD2020/processed_images\\03125-89_263-177&502_477&597-464&581_177&597_185&513_477&502-0_0_3_27_29_25_33_33-102-60.jpg\n"
     ]
    }
   ],
   "source": [
    "import cv2\n",
    "import numpy as np\n",
    "import random\n",
    "import os\n",
    "import glob\n",
    "\n",
    "input_folder = 'data/CCPD2020/test_new'\n",
    "output_folder = 'data/CCPD2020/processed_images'\n",
    "\n",
    "if not os.path.exists(output_folder):\n",
    "    os.makedirs(output_folder)\n",
    "\n",
    "image_files = glob.glob(os.path.join(input_folder, '*.*'))\n",
    "\n",
    "for image_file in image_files:\n",
    "    img = cv2.imread(image_file)\n",
    "\n",
    "    if img is None:\n",
    "        print(f\"Could not read image {image_file}, skipping.\")\n",
    "        continue\n",
    "\n",
    "    kernel_size = random.randint(5, 5)\n",
    "\n",
    "    kernel_v = np.zeros((kernel_size, kernel_size))\n",
    "    kernel_h = np.copy(kernel_v)\n",
    "\n",
    "    kernel_v[:, int((kernel_size - 1)/2)] = np.ones(kernel_size)\n",
    "    kernel_h[int((kernel_size - 1)/2), :] = np.ones(kernel_size)\n",
    "\n",
    "    kernel_v /= kernel_size\n",
    "    kernel_h /= kernel_size\n",
    "\n",
    "    if random.choice(['vertical', 'horizontal']) == 'vertical':\n",
    "        output = cv2.filter2D(img, -1, kernel_v)\n",
    "    else:\n",
    "        output = cv2.filter2D(img, -1, kernel_h)\n",
    "\n",
    "    filename = os.path.basename(image_file)\n",
    "    output_path = os.path.join(output_folder, filename)\n",
    "\n",
    "    cv2.imwrite(output_path, output)\n",
    "    print(f\"Processed and saved: {output_path}\")\n"
   ]
  },
  {
   "cell_type": "code",
   "execution_count": null,
   "metadata": {},
   "outputs": [],
   "source": []
  }
 ],
 "metadata": {
  "kernelspec": {
   "display_name": ".venv",
   "language": "python",
   "name": "python3"
  },
  "language_info": {
   "codemirror_mode": {
    "name": "ipython",
    "version": 3
   },
   "file_extension": ".py",
   "mimetype": "text/x-python",
   "name": "python",
   "nbconvert_exporter": "python",
   "pygments_lexer": "ipython3",
   "version": "3.12.7"
  }
 },
 "nbformat": 4,
 "nbformat_minor": 2
}
